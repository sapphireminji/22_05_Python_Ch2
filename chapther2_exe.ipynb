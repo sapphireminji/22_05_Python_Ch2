{
  "nbformat": 4,
  "nbformat_minor": 0,
  "metadata": {
    "colab": {
      "provenance": [],
      "authorship_tag": "ABX9TyMTcBQlhXM1PN7pMtilCrQg",
      "include_colab_link": true
    },
    "kernelspec": {
      "name": "python3",
      "display_name": "Python 3"
    },
    "language_info": {
      "name": "python"
    }
  },
  "cells": [
    {
      "cell_type": "markdown",
      "metadata": {
        "id": "view-in-github",
        "colab_type": "text"
      },
      "source": [
        "<a href=\"https://colab.research.google.com/github/sapphireminji/22_05_Python_Ch2/blob/main/chapther2_exe.ipynb\" target=\"_parent\"><img src=\"https://colab.research.google.com/assets/colab-badge.svg\" alt=\"Open In Colab\"/></a>"
      ]
    },
    {
      "cell_type": "markdown",
      "source": [
        "사용자에게 이름과 나이를 입력하게 한다. 사용자가 100살이 되는 연도를 화면에 출력 하는 프로그램을 작성하라"
      ],
      "metadata": {
        "id": "UehMVplTPqvr"
      }
    },
    {
      "cell_type": "code",
      "source": [
        "name =input(\"이름을 입력하시오.:\")      # 변수 name에 input함수를 사용하여 사용자에게\n",
        "age = int(input(\"나이를 입력하시오.: \")) # 변수 age에 int(정수형 선언)함수로 사용자에게 나이를 입력하시오\n",
        "year = 2022 - age + 100                  # 변수 year에 현재 연도 - 변수(age)+100\n",
        "print(name +\"씨는\" + year + \"년에 100살입니다.\" )                                                          "
      ],
      "metadata": {
        "colab": {
          "base_uri": "https://localhost:8080/",
          "height": 248
        },
        "id": "sWQnydyGP2M6",
        "outputId": "f62490d4-9df0-4b50-8dcd-4cc8ddf2649e"
      },
      "execution_count": 2,
      "outputs": [
        {
          "name": "stdout",
          "output_type": "stream",
          "text": [
            "이름을 입력하시오.:송민지\n",
            "나이를 입력하시오.: 21\n"
          ]
        },
        {
          "output_type": "error",
          "ename": "TypeError",
          "evalue": "ignored",
          "traceback": [
            "\u001b[0;31m---------------------------------------------------------------------------\u001b[0m",
            "\u001b[0;31mTypeError\u001b[0m                                 Traceback (most recent call last)",
            "\u001b[0;32m<ipython-input-2-d24f0735a112>\u001b[0m in \u001b[0;36m<module>\u001b[0;34m\u001b[0m\n\u001b[1;32m      2\u001b[0m \u001b[0mage\u001b[0m \u001b[0;34m=\u001b[0m \u001b[0mint\u001b[0m\u001b[0;34m(\u001b[0m\u001b[0minput\u001b[0m\u001b[0;34m(\u001b[0m\u001b[0;34m\"나이를 입력하시오.: \"\u001b[0m\u001b[0;34m)\u001b[0m\u001b[0;34m)\u001b[0m \u001b[0;31m# 변수 age에 int(정수형 선언)함수로 사용자에게 나이를 입력하시오\u001b[0m\u001b[0;34m\u001b[0m\u001b[0;34m\u001b[0m\u001b[0m\n\u001b[1;32m      3\u001b[0m \u001b[0myear\u001b[0m \u001b[0;34m=\u001b[0m \u001b[0;36m2022\u001b[0m \u001b[0;34m-\u001b[0m \u001b[0mage\u001b[0m \u001b[0;34m+\u001b[0m \u001b[0;36m100\u001b[0m                  \u001b[0;31m# 변수 year에 현재 연도 - 변수(age)+100\u001b[0m\u001b[0;34m\u001b[0m\u001b[0;34m\u001b[0m\u001b[0m\n\u001b[0;32m----> 4\u001b[0;31m \u001b[0mprint\u001b[0m\u001b[0;34m(\u001b[0m\u001b[0mname\u001b[0m \u001b[0;34m+\u001b[0m\u001b[0;34m\"씨는\"\u001b[0m \u001b[0;34m+\u001b[0m \u001b[0myear\u001b[0m \u001b[0;34m+\u001b[0m \u001b[0;34m\"년에 100살입니다.\"\u001b[0m \u001b[0;34m)\u001b[0m\u001b[0;34m\u001b[0m\u001b[0;34m\u001b[0m\u001b[0m\n\u001b[0m",
            "\u001b[0;31mTypeError\u001b[0m: can only concatenate str (not \"int\") to str"
          ]
        }
      ]
    },
    {
      "cell_type": "code",
      "source": [
        "n1 = int(input(\"첫번째 숫자를 입력하시오 : \"))\n",
        "n2 = int(input(\"두번째 숫자를 입력하시오 : \"))\n",
        "n3 = int(input(\"세번째 숫자를 입력하시오 : \"))\n",
        "average = (n1 + n2 + n3) / 3\n",
        "sum = n1+ n2 + n3\n",
        "print(n1, n2, n3, str(sum) +\"이고\" ,\"의 평균은\", average, \"입니다.\")"
      ],
      "metadata": {
        "colab": {
          "base_uri": "https://localhost:8080/"
        },
        "id": "sMYxQwRhTcDl",
        "outputId": "12d6bb5b-8b52-49e8-9435-85ee6e7bf307"
      },
      "execution_count": 7,
      "outputs": [
        {
          "output_type": "stream",
          "name": "stdout",
          "text": [
            "첫번째 숫자를 입력하시오 : 10\n",
            "두번째 숫자를 입력하시오 : 20\n",
            "세번째 숫자를 입력하시오 : 30\n",
            "10 20 30 60이고 의 평균은 20.0 입니다.\n"
          ]
        }
      ]
    },
    {
      "cell_type": "markdown",
      "source": [
        "(3) 사용자로부터 반지름을 입력받아서 면적을 구하시오.\n"
      ],
      "metadata": {
        "id": "5s3aBxBrV68T"
      }
    },
    {
      "cell_type": "code",
      "source": [
        "radius = int(input(\"반지름을 입력하시오.: \"))\n",
        "area = 3.141592 *radius * radius\n",
        "print(\"반지름이\", area, \"원의 넓이는 =\", area, \"입니다.\")"
      ],
      "metadata": {
        "colab": {
          "base_uri": "https://localhost:8080/"
        },
        "id": "Zx59X_NGWGIC",
        "outputId": "bc8ffebc-c8e6-4127-c4fa-ba37ce98cb40"
      },
      "execution_count": 10,
      "outputs": [
        {
          "output_type": "stream",
          "name": "stdout",
          "text": [
            "반지름을 입력하시오.: 10\n",
            "반지름이 314.1592 원의 넓이는 = 314.1592 입니다.\n"
          ]
        }
      ]
    }
  ]
}