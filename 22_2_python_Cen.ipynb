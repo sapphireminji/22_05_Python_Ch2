{
  "nbformat": 4,
  "nbformat_minor": 0,
  "metadata": {
    "colab": {
      "provenance": [],
      "authorship_tag": "ABX9TyOUeGTzdFAROzWS+wuZmCRp",
      "include_colab_link": true
    },
    "kernelspec": {
      "name": "python3",
      "display_name": "Python 3"
    },
    "language_info": {
      "name": "python"
    }
  },
  "cells": [
    {
      "cell_type": "markdown",
      "metadata": {
        "id": "view-in-github",
        "colab_type": "text"
      },
      "source": [
        "<a href=\"https://colab.research.google.com/github/sapphireminji/22_05_Python_Ch2/blob/main/22_2_python_Cen.ipynb\" target=\"_parent\"><img src=\"https://colab.research.google.com/assets/colab-badge.svg\" alt=\"Open In Colab\"/></a>"
      ]
    },
    {
      "cell_type": "markdown",
      "source": [
        "19. 다음 보기의 사칙연산을 완성하시오. 한줄에 모두, 여러줄로 나누어서, 보기좋게 정리."
      ],
      "metadata": {
        "id": "-vXU9XJbUOw8"
      }
    },
    {
      "cell_type": "code",
      "source": [
        "print(1+2,2-3,3*4,4/4)"
      ],
      "metadata": {
        "colab": {
          "base_uri": "https://localhost:8080/"
        },
        "id": "o68CTetQUWWT",
        "outputId": "bb6a13c6-147e-4c7f-8f6e-57cda27387d1"
      },
      "execution_count": 1,
      "outputs": [
        {
          "output_type": "stream",
          "name": "stdout",
          "text": [
            "3 -1 12 1.0\n"
          ]
        }
      ]
    },
    {
      "cell_type": "markdown",
      "source": [
        "20. 아래 출력화면을 간결하고 보기좋게 코딩하시오."
      ],
      "metadata": {
        "id": "5Ko3G47LUx1O"
      }
    },
    {
      "cell_type": "markdown",
      "source": [
        "* 제 1조 1항 대한민국은 민주공화국이다. *"
      ],
      "metadata": {
        "id": "jPnv0LfyVBTZ"
      }
    },
    {
      "cell_type": "code",
      "source": [
        "print(\"*\" * 40)\n",
        "print(\"* 제 1조 1항 대한민국은 민주공화국이다. *\")\n",
        "print(\"*\" * 40)"
      ],
      "metadata": {
        "colab": {
          "base_uri": "https://localhost:8080/"
        },
        "id": "T_n8T2UEU5oB",
        "outputId": "829bf057-c872-4ab0-d366-83ec53d8e2e0"
      },
      "execution_count": 2,
      "outputs": [
        {
          "output_type": "stream",
          "name": "stdout",
          "text": [
            "****************************************\n",
            "* 제 1조 1항 대한민국은 민주공화국이다. *\n",
            "****************************************\n"
          ]
        }
      ]
    }
  ]
}